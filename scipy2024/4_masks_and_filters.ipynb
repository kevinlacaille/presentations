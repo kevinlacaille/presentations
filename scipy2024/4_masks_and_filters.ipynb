{
 "cells": [
  {
   "cell_type": "markdown",
   "metadata": {},
   "source": [
    "# Working with Raster Bands\n",
    "\n",
    "## Preparing Your Workspace\n",
    "\n",
    "### Option 1: (recommended) Run in Google Colab\n",
    "[![Open in Colab](https://colab.research.google.com/assets/colab-badge.svg)](https://colab.research.google.com/github/kevinlacaille/presentations/blob/main/scipy2024/4_masks_and_filters.ipynb)\n",
    "\n",
    "### Option 2: Run local Jupyter instance\n",
    "You can also choose to open this Notebook in your own local Jupyter instance.\n",
    "\n",
    "**Prerequisites**\n",
    "\n",
    "- Install: rasterio\n",
    "- Download data"
   ]
  },
  {
   "cell_type": "code",
   "execution_count": null,
   "metadata": {},
   "outputs": [],
   "source": [
    "!pip install rasterio\n",
    "!wget https://raw.githubusercontent.com/kevinlacaille/presentations/main/scipy2024/data/presentation/8928dec4ddbffff/DJI_0876.JPG"
   ]
  },
  {
   "cell_type": "code",
   "execution_count": null,
   "metadata": {},
   "outputs": [],
   "source": [
    "import os\n",
    "\n",
    "image_path = \"/content/DJI_0876.JPG\" if os.path.exists(\n",
    "    \"/content/DJI_0876.JPG\"\n",
    ") else \"data/presentation/8928dec4ddbffff/DJI_0876.JPG\""
   ]
  },
  {
   "cell_type": "code",
   "execution_count": null,
   "metadata": {},
   "outputs": [],
   "source": [
    "import rasterio\n",
    "\n",
    "# Open the image and read the bands as numpy arrays\n",
    "with rasterio.open(image_path) as src:\n",
    "    blue = src.read(1)\n",
    "    green = src.read(2)\n",
    "    red = src.read(3)"
   ]
  },
  {
   "cell_type": "code",
   "execution_count": null,
   "metadata": {},
   "outputs": [],
   "source": [
    "import numpy as np\n",
    "# Allow division by zero\n",
    "np.seterr(divide='ignore', invalid='ignore')"
   ]
  },
  {
   "cell_type": "code",
   "execution_count": null,
   "metadata": {},
   "outputs": [],
   "source": [
    "# Stack the bands to create a color image\n",
    "rgb = np.dstack((blue, green, red))"
   ]
  },
  {
   "cell_type": "code",
   "execution_count": null,
   "metadata": {},
   "outputs": [],
   "source": [
    "vari = (green.astype(float) - red.astype(float)) / (\n",
    "    green.astype(float) + red.astype(float) - blue.astype(float))"
   ]
  },
  {
   "cell_type": "markdown",
   "metadata": {},
   "source": [
    "## Masking\n",
    "### Thresholding"
   ]
  },
  {
   "cell_type": "markdown",
   "metadata": {},
   "source": [
    "This code creates binary masks to distinguish between vegetation and non-vegetation areas by thresholding the VARI index. \n",
    "\n",
    "- **Vegetation Mask**: Pixels with VARI values greater than or equal to 0.1 are marked as vegetation (`1`), and others remain `NaN`.\n",
    "- **Non-Vegetation Mask**: Pixels with VARI values less than 0.1 are marked as non-vegetation (`1`), and others remain `NaN`.\n",
    "\n",
    "These masks are useful for analyzing and visualizing vegetative regions within the image."
   ]
  },
  {
   "cell_type": "code",
   "execution_count": null,
   "metadata": {},
   "outputs": [],
   "source": [
    "# Min and max values for the VARI index\n",
    "vari_min = 0.1\n",
    "vari_max = 0.5\n",
    "\n",
    "# Generate the vegetation mask\n",
    "vegetation_mask = np.full(vari.shape, np.nan)\n",
    "vegetation_mask[(vari >= vari_min)] = 1\n",
    "\n",
    "# Generate the non-vegetation mask\n",
    "non_vegetation_mask = np.full(vari.shape, np.nan)\n",
    "non_vegetation_mask[vari < vari_min] = 1"
   ]
  },
  {
   "cell_type": "markdown",
   "metadata": {},
   "source": [
    "In the images below, colored areas are those identified as vegetation in \"vegetation mask\" and everything but vegation in the \"non-vegetation mask\"."
   ]
  },
  {
   "cell_type": "code",
   "execution_count": null,
   "metadata": {},
   "outputs": [],
   "source": [
    "from matplotlib import pyplot as plt\n",
    "\n",
    "fig, ax = plt.subplots(1, 2, figsize=(12, 6))\n",
    "\n",
    "plt.sca(ax[0])\n",
    "plt.imshow(vegetation_mask, cmap='Greens', vmax=1, vmin=0)\n",
    "plt.axis('off')\n",
    "plt.title('vegetation mask')\n",
    "\n",
    "plt.sca(ax[1])\n",
    "plt.imshow(non_vegetation_mask, cmap='Blues', vmax=1, vmin=0)\n",
    "plt.axis('off')\n",
    "plt.title('non-vegetation mask')\n",
    "\n",
    "plt.show()\n"
   ]
  },
  {
   "cell_type": "markdown",
   "metadata": {},
   "source": [
    "## Filtering"
   ]
  },
  {
   "cell_type": "markdown",
   "metadata": {},
   "source": [
    "### Smoothing"
   ]
  },
  {
   "cell_type": "markdown",
   "metadata": {},
   "source": [
    "Apply a Gaussian blur to the vegetation mask to smooth out the edges and reduce noise, providing a cleaner mask for further analysis.\n",
    "\n",
    "The `GaussianBlur` function from OpenCV uses a kernel size of 7x7 and a standard deviation of 0, resulting in a smoothed version of the vegetation mask.\n",
    "\n",
    "If the pixel pitch is 2.5 cm, a 7x7 kernel in the Gaussian blur operation covers an area of:\n",
    "\n",
    "$$ 7 \\times 2.5 \\text{ cm} \\times 7 \\times 2.5 \\text{ cm} = 17.5 \\text{ cm} \\times 17.5 \\text{ cm} $$\n",
    "\n",
    "Therefore, a 7x7 kernel translates to a real-world area of 17.5 cm x 17.5 cm (~1/2 a foot x 1/2 a foot). This means that the Gaussian blur operation will smooth the vegetation mask over a square area of approximately 17.5 cm on each side."
   ]
  },
  {
   "cell_type": "code",
   "execution_count": null,
   "metadata": {},
   "outputs": [],
   "source": [
    "import cv2 as cv\n",
    "\n",
    "blur = cv.GaussianBlur(vegetation_mask, (7, 7), 0)"
   ]
  },
  {
   "cell_type": "code",
   "execution_count": null,
   "metadata": {},
   "outputs": [],
   "source": [
    "fig, ax = plt.subplots(1, 2, figsize=(12, 6))\n",
    "\n",
    "plt.sca(ax[0])\n",
    "plt.imshow(vegetation_mask, cmap='Greens', vmax=1, vmin=0)\n",
    "plt.axis('off')\n",
    "plt.title('vegetation mask')\n",
    "\n",
    "plt.sca(ax[1])\n",
    "plt.imshow(blur, cmap='Greens', vmax=1, vmin=0)\n",
    "plt.axis('off')\n",
    "plt.title('blur')\n",
    "\n",
    "plt.show()"
   ]
  },
  {
   "cell_type": "markdown",
   "metadata": {},
   "source": [
    "### Morphological filtering"
   ]
  },
  {
   "cell_type": "markdown",
   "metadata": {},
   "source": [
    "Morphological filtering is a set of image processing operations that process images based on their shapes. These operations are particularly effective in removing noise, separating overlapping objects, and enhancing the structure of features in binary and grayscale images."
   ]
  },
  {
   "cell_type": "markdown",
   "metadata": {},
   "source": [
    "**Opening Filter**:\n",
    "\n",
    "A type of morphological operation that consists of an `erosion` followed by a `dilation`. The primary purpose of the opening filter is to remove small objects or noise from the foreground of an image while preserving the shape and size of larger objects.\n",
    "\n",
    "The 30x30 kernel translates to a real-world area of 75 cm by 75 cm. This means that the morphological opening operation will affect a square area of approximately 75 cm (>2ft) on each side in the image.\n",
    "\n",
    "**Why use both bluring and morphological filtering?**\n",
    "\n",
    "- Gaussian blur provides initial noise reduction and smoothing\n",
    "- Morphological opening further refines the image by removing small, unwanted elements\n"
   ]
  },
  {
   "cell_type": "code",
   "execution_count": null,
   "metadata": {},
   "outputs": [],
   "source": [
    "opening_kernel = np.ones((30, 30), np.uint8)\n",
    "\n",
    "opening = cv.morphologyEx(blur, cv.MORPH_OPEN, opening_kernel)"
   ]
  },
  {
   "cell_type": "code",
   "execution_count": null,
   "metadata": {},
   "outputs": [],
   "source": [
    "fig, ax = plt.subplots(1, 3, figsize=(18, 6))\n",
    "\n",
    "plt.sca(ax[0])\n",
    "plt.imshow(rgb)\n",
    "plt.axis('off')\n",
    "plt.title('RGB')\n",
    "\n",
    "plt.sca(ax[1])\n",
    "plt.imshow(vegetation_mask, cmap='Greens', vmax=1, vmin=0)\n",
    "plt.axis('off')\n",
    "plt.title('Vegetation Mask')\n",
    "\n",
    "plt.sca(ax[2])\n",
    "plt.imshow(opening, cmap='Greens', vmax=1, vmin=0)\n",
    "plt.axis('off')\n",
    "plt.title('Smoothed & Opened Vegetation Mask')\n",
    "\n",
    "plt.show()"
   ]
  },
  {
   "cell_type": "markdown",
   "metadata": {},
   "source": [
    "**Closing Filter**:\n",
    "\n",
    "A type of morphological operation that consists of a `dilation` followed by an `erosion`. The primary purpose of the closing filter is to fill small holes or gaps within the foreground objects while preserving their shape and size."
   ]
  },
  {
   "cell_type": "code",
   "execution_count": null,
   "metadata": {},
   "outputs": [],
   "source": [
    "closing_kernel = np.ones((30, 30), np.uint8)\n",
    "\n",
    "closing = cv.morphologyEx(blur, cv.MORPH_CLOSE, closing_kernel)"
   ]
  },
  {
   "cell_type": "code",
   "execution_count": null,
   "metadata": {},
   "outputs": [],
   "source": [
    "fig, ax = plt.subplots(1, 3, figsize=(18, 6))\n",
    "\n",
    "plt.sca(ax[0])\n",
    "plt.imshow(rgb)\n",
    "plt.axis('off')\n",
    "plt.title('RGB')\n",
    "\n",
    "plt.sca(ax[1])\n",
    "plt.imshow(vegetation_mask, cmap='Greens', vmax=1, vmin=0)\n",
    "plt.axis('off')\n",
    "plt.title('Vegetation Mask')\n",
    "\n",
    "plt.sca(ax[2])\n",
    "plt.imshow(closing, cmap='Greens', vmax=1, vmin=0)\n",
    "plt.axis('off')\n",
    "plt.title('Smoothed & Fully Filtered Vegetation Mask')\n",
    "\n",
    "plt.show()"
   ]
  },
  {
   "cell_type": "markdown",
   "metadata": {},
   "source": [
    "**What does the image processing pipeline do?**\n",
    "\n",
    "1. **Gaussian Blurring**: Reduces overall noise and smooths the image, providing a uniform basis for further analysis.\n",
    "2. **Morphological Opening**: Removes small noise and artifacts from the foreground, ensuring cleaner separation of important structures.\n",
    "3. **Morphological Closing**: Fills small holes and gaps within the foreground objects, creating a more solid and continuous representation.\n",
    "\n",
    "The pipeline achieves a refined and accurate representation of the target features, such as vegetation, in the image. This allows for better analysis and more reliable results in applications like vegetation monitoring and other remote sensing tasks."
   ]
  },
  {
   "cell_type": "code",
   "execution_count": null,
   "metadata": {},
   "outputs": [],
   "source": [
    "fig, ax = plt.subplots(1, 2, figsize=(12, 6))\n",
    "\n",
    "plt.sca(ax[0])\n",
    "plt.imshow(closing, cmap='Greens', vmax=1, vmin=0)\n",
    "plt.axis('off')\n",
    "plt.title('Vegetation Mask')\n",
    "\n",
    "# Invert the closing mask to get the non-vegetation mask\n",
    "inverse_closing = np.logical_not(closing.astype(np.uint8)) * 255\n",
    "\n",
    "plt.sca(ax[1])\n",
    "plt.imshow(inverse_closing, cmap='Blues', vmax=1, vmin=0)\n",
    "plt.axis('off')\n",
    "plt.title('Non-Vegetation Mask')\n",
    "\n",
    "plt.show()"
   ]
  }
 ],
 "metadata": {
  "kernelspec": {
   "display_name": "scipy2024-env",
   "language": "python",
   "name": "python3"
  },
  "language_info": {
   "codemirror_mode": {
    "name": "ipython",
    "version": 3
   },
   "file_extension": ".py",
   "mimetype": "text/x-python",
   "name": "python",
   "nbconvert_exporter": "python",
   "pygments_lexer": "ipython3",
   "version": "3.11.4"
  }
 },
 "nbformat": 4,
 "nbformat_minor": 2
}
