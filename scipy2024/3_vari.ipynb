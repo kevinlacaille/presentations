{
 "cells": [
  {
   "cell_type": "markdown",
   "metadata": {},
   "source": [
    "# Working with Raster Bands\n",
    "\n",
    "## Preparing Your Workspace\n",
    "\n",
    "### Option 1: (recommended) Run in Google Colab\n",
    "[![Open in Colab](https://colab.research.google.com/assets/colab-badge.svg)](https://colab.research.google.com/github/kevinlacaille/presentations/blob/main/scipy2024/3_vari.ipynb)\n",
    "\n",
    "### Option 2: Run local Jupyter instance\n",
    "You can also choose to open this Notebook in your own local Jupyter instance.\n",
    "\n",
    "**Prerequisites**\n",
    "\n",
    "- Install: rasterio\n",
    "- Download data"
   ]
  },
  {
   "cell_type": "code",
   "execution_count": null,
   "metadata": {},
   "outputs": [],
   "source": [
    "!pip install rasterio\n",
    "!wget https://raw.githubusercontent.com/kevinlacaille/presentations/main/scipy2024/data/presentation/8928dec4ddbffff/DJI_0876.JPG"
   ]
  },
  {
   "cell_type": "code",
   "execution_count": null,
   "metadata": {},
   "outputs": [],
   "source": [
    "import rasterio"
   ]
  },
  {
   "cell_type": "code",
   "execution_count": null,
   "metadata": {},
   "outputs": [],
   "source": [
    "import os\n",
    "# Define both potential file paths\n",
    "image_path = \"/content/DJI_0876.JPG\" if os.path.exists(\n",
    "    \"/content/DJI_0876.JPG\"\n",
    ") else \"data/presentation/8928dec4ddbffff/DJI_0876.JPG\""
   ]
  },
  {
   "cell_type": "code",
   "execution_count": null,
   "metadata": {},
   "outputs": [],
   "source": [
    "# Open the image and read the bands as numpy arrays\n",
    "with rasterio.open(image_path) as src:\n",
    "    blue = src.read(1)\n",
    "    green = src.read(2)\n",
    "    red = src.read(3)"
   ]
  },
  {
   "cell_type": "code",
   "execution_count": null,
   "metadata": {},
   "outputs": [],
   "source": [
    "import numpy as np\n",
    "# Allow division by zero\n",
    "np.seterr(divide='ignore', invalid='ignore')"
   ]
  },
  {
   "cell_type": "code",
   "execution_count": null,
   "metadata": {},
   "outputs": [],
   "source": [
    "# Stack the bands to create a color image\n",
    "rgb = np.dstack((blue, green, red))"
   ]
  },
  {
   "cell_type": "code",
   "execution_count": null,
   "metadata": {},
   "outputs": [],
   "source": [
    "from matplotlib import pyplot as plt\n",
    "# Visualize the color image\n",
    "fig = plt.figure(frameon=False)\n",
    "ax = plt.Axes(fig, [0., 0., 1., 1.])\n",
    "ax.set_axis_off()\n",
    "fig.add_axes(ax)\n",
    "ax.imshow(rgb)\n",
    "plt.axis('off')\n",
    "plt.show()"
   ]
  },
  {
   "cell_type": "markdown",
   "metadata": {},
   "source": [
    "VARI reference: https://calmit.unl.edu/people/agitelson2/pdf/07_IJRS-2002_23-2002.pdf"
   ]
  },
  {
   "cell_type": "code",
   "execution_count": null,
   "metadata": {},
   "outputs": [],
   "source": [
    "vari = (green.astype(float) - red.astype(float)) / (\n",
    "    green.astype(float) + red.astype(float) - blue.astype(float))"
   ]
  },
  {
   "cell_type": "code",
   "execution_count": null,
   "metadata": {},
   "outputs": [],
   "source": [
    "plt.imshow(vari, cmap='Greens')\n",
    "plt.colorbar()\n",
    "plt.show()"
   ]
  },
  {
   "cell_type": "code",
   "execution_count": null,
   "metadata": {},
   "outputs": [],
   "source": [
    "vari_min = 0.1\n",
    "vari_max = 0.5"
   ]
  },
  {
   "cell_type": "code",
   "execution_count": null,
   "metadata": {},
   "outputs": [],
   "source": [
    "# make a side by side comparison of rgb and vari\n",
    "fig, ax = plt.subplots(1, 2, figsize=(12, 6))\n",
    "\n",
    "plt.sca(ax[0])\n",
    "plt.imshow(rgb)\n",
    "plt.axis('off')\n",
    "plt.title('RGB')\n",
    "\n",
    "plt.sca(ax[1])\n",
    "plt.imshow(vari, cmap='Greens', vmin=vari_min, vmax=vari_max)\n",
    "plt.axis('off')\n",
    "plt.title('VARI')\n",
    "\n",
    "plt.show()"
   ]
  }
 ],
 "metadata": {
  "kernelspec": {
   "display_name": "scipy2024-env",
   "language": "python",
   "name": "python3"
  },
  "language_info": {
   "codemirror_mode": {
    "name": "ipython",
    "version": 3
   },
   "file_extension": ".py",
   "mimetype": "text/x-python",
   "name": "python",
   "nbconvert_exporter": "python",
   "pygments_lexer": "ipython3",
   "version": "3.11.4"
  }
 },
 "nbformat": 4,
 "nbformat_minor": 2
}
