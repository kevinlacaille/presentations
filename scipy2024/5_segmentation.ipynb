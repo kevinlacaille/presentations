{
 "cells": [
  {
   "cell_type": "markdown",
   "metadata": {},
   "source": [
    "# Working with Raster Bands\n",
    "\n",
    "## Preparing Your Workspace\n",
    "\n",
    "### Option 1: (recommended) Run in Google Colab\n",
    "[![Open in Colab](https://colab.research.google.com/assets/colab-badge.svg)](https://colab.research.google.com/github/kevinlacaille/presentations/blob/main/scipy2024/5_segmentation.ipynb)\n",
    "\n",
    "### Option 2: Run local Jupyter instance\n",
    "You can also choose to open this Notebook in your own local Jupyter instance.\n",
    "\n",
    "**Prerequisites**\n",
    "\n",
    "- Install: rasterio\n",
    "- Download data"
   ]
  },
  {
   "cell_type": "code",
   "execution_count": null,
   "metadata": {},
   "outputs": [],
   "source": [
    "!pip install rasterio\n",
    "!wget https://raw.githubusercontent.com/kevinlacaille/presentations/main/scipy2024/data/presentation/8928dec4ddbffff/DJI_0876.JPG"
   ]
  },
  {
   "cell_type": "markdown",
   "metadata": {},
   "source": [
    "Let's get the vegetation and non-vegetation masks as we did in `4_masks_and_filters.ipynb`."
   ]
  },
  {
   "cell_type": "code",
   "execution_count": null,
   "metadata": {},
   "outputs": [],
   "source": [
    "import rasterio\n",
    "import cv2 as cv\n",
    "import numpy as np\n",
    "import os\n",
    "\n",
    "# Path to the image\n",
    "image_path = \"/content/DJI_0876.JPG\" if os.path.exists(\n",
    "    \"/content/DJI_0876.JPG\"\n",
    ") else \"data/presentation/8928dec4ddbffff/DJI_0876.JPG\"\n",
    "\n",
    "# Open the image and read the bands as numpy arrays\n",
    "with rasterio.open(image_path) as src:\n",
    "    blue = src.read(1)\n",
    "    green = src.read(2)\n",
    "    red = src.read(3)\n",
    "\n",
    "# Allow division by zero\n",
    "np.seterr(divide='ignore', invalid='ignore')\n",
    "\n",
    "# Stack the bands to create a color image\n",
    "rgb = np.dstack((blue, green, red))\n",
    "\n",
    "# Get VARI index\n",
    "vari = (green.astype(float) - red.astype(float)) / (\n",
    "    green.astype(float) + red.astype(float) - blue.astype(float))\n",
    "\n",
    "# Min and max values for the VARI index\n",
    "vari_min = 0.1\n",
    "vari_max = 0.5\n",
    "\n",
    "# Generate the vegetation mask\n",
    "vegetation_mask = np.full(vari.shape, np.nan)\n",
    "vegetation_mask[(vari >= vari_min)] = 1\n",
    "\n",
    "# Generate the non-vegetation mask\n",
    "non_vegetation_mask = np.full(vari.shape, np.nan)\n",
    "non_vegetation_mask[vari < vari_min] = 1"
   ]
  },
  {
   "cell_type": "markdown",
   "metadata": {},
   "source": [
    "Let's use the Ground Sampling Distance (GSD) we measured in `exif.ipynb` to convert real-world measurements to pixel dimensions for defining the morphological kernel size. The GSD represents the actual ground distance that each pixel covers, allowing us to translate real-world dimensions into the pixel space of the image.\n",
    "\n",
    "We typically use a square kernel for morphological operations, so we take the square root of the pixel area to determine the side length of the kernel.\n",
    "\n",
    "Ensure that the kernel size is odd to maintain symmetry around the central pixel during morphological operations."
   ]
  },
  {
   "cell_type": "code",
   "execution_count": null,
   "metadata": {},
   "outputs": [],
   "source": [
    "# The ground sampling distance (GSD) of the image\n",
    "gsd = 0.025  # meters per pixel\n",
    "\n",
    "# Diameter of the tree in physical units\n",
    "diameter_of_tree = 10  # meters\n",
    "\n",
    "# Kernel size in pixels\n",
    "kernel_size = int(np.sqrt(diameter_of_tree / gsd))  # square kernel size\n",
    "\n",
    "# Ensure kernel size is odd\n",
    "if kernel_size % 2 == 0:\n",
    "    kernel_size += 1\n",
    "\n",
    "print(\"Kernel size: \", kernel_size, \"pixels\")"
   ]
  },
  {
   "cell_type": "markdown",
   "metadata": {},
   "source": [
    "Apply the image processing pipeline we defined in the later half of `4_masks_and_filters.ipynb`."
   ]
  },
  {
   "cell_type": "code",
   "execution_count": null,
   "metadata": {},
   "outputs": [],
   "source": [
    "# Apply a Gaussian blur to the vegetation mask\n",
    "blur = cv.GaussianBlur(vegetation_mask, (7, 7), 0)\n",
    "\n",
    "# Create the opening and closing kernels defined by the size of the tree\n",
    "opening_kernel = np.ones((kernel_size, kernel_size), np.uint8)\n",
    "closing_kernel = np.ones((kernel_size, kernel_size), np.uint8)\n",
    "\n",
    "# Apply morphological opening and closing to the blurred image\n",
    "opening = cv.morphologyEx(blur, cv.MORPH_OPEN, opening_kernel)\n",
    "closing = cv.morphologyEx(opening, cv.MORPH_CLOSE, closing_kernel)"
   ]
  },
  {
   "cell_type": "markdown",
   "metadata": {},
   "source": [
    "Create a purple mask overlay (combining red and blue channels) and apply it to the regions defined by the filtered mask. This will create an overlay for the filtered vegetation mask."
   ]
  },
  {
   "cell_type": "code",
   "execution_count": null,
   "metadata": {},
   "outputs": [],
   "source": [
    "# Create a mask overlay with purple color (Red + Blue)\n",
    "mask_overlay = np.zeros_like(rgb)\n",
    "mask_overlay[:, :, 0] = 128  # Red channel for purple\n",
    "mask_overlay[:, :, 1] = 0  # Green channel for purple\n",
    "mask_overlay[:, :, 2] = 128  # Blue channel for purple\n",
    "\n",
    "# Apply the filtered mask to the mask overlay\n",
    "mask_overlay[closing != 1] = [0, 0, 0]  # Transparent where mask is not applied\n"
   ]
  },
  {
   "cell_type": "markdown",
   "metadata": {},
   "source": [
    "Do the same as above, but for the non-vegetation mask."
   ]
  },
  {
   "cell_type": "code",
   "execution_count": null,
   "metadata": {},
   "outputs": [],
   "source": [
    "# Create a non-vegetation mask by inverting the filtered vegetation mask\n",
    "inverse_closing = np.logical_not(closing).astype(np.uint8)\n",
    "\n",
    "# Create an inverse mask overlay with purple color\n",
    "inverse_mask_overlay = np.zeros_like(rgb)\n",
    "inverse_mask_overlay[:, :, 0] = 128  # Red channel for purple\n",
    "inverse_mask_overlay[:, :, 1] = 0  # Green channel for purple\n",
    "inverse_mask_overlay[:, :, 2] = 128  # Blue channel for purple\n",
    "\n",
    "# Apply the inverse mask to the inverse mask overlay\n",
    "inverse_mask_overlay[closing == 1] = [\n",
    "    0, 0, 0\n",
    "]  # Transparent where original mask is applied\n"
   ]
  },
  {
   "cell_type": "markdown",
   "metadata": {},
   "source": [
    "Visualize the filtered vegetation and non-vegetation masks."
   ]
  },
  {
   "cell_type": "code",
   "execution_count": null,
   "metadata": {},
   "outputs": [],
   "source": [
    "import matplotlib.pyplot as plt\n",
    "\n",
    "fig, ax = plt.subplots(1, 3, figsize=(18, 6))\n",
    "\n",
    "plt.sca(ax[0])\n",
    "plt.imshow(rgb)\n",
    "plt.axis('off')\n",
    "plt.title('RGB')\n",
    "\n",
    "plt.sca(ax[1])\n",
    "plt.imshow(rgb)\n",
    "plt.imshow(mask_overlay, alpha=0.5)\n",
    "plt.axis('off')\n",
    "plt.title('vegetation segmentation')\n",
    "\n",
    "plt.sca(ax[2])\n",
    "plt.imshow(rgb)\n",
    "plt.imshow(inverse_mask_overlay, alpha=0.5)\n",
    "plt.axis('off')\n",
    "plt.title('non-veg segmentation')\n",
    "\n",
    "plt.show()"
   ]
  },
  {
   "cell_type": "markdown",
   "metadata": {},
   "source": [
    "This approach effectively segments vegetation in an image without using machine learning by leveraging remote sensing and image processing techniques!"
   ]
  }
 ],
 "metadata": {
  "kernelspec": {
   "display_name": "scipy2024-env",
   "language": "python",
   "name": "python3"
  },
  "language_info": {
   "codemirror_mode": {
    "name": "ipython",
    "version": 3
   },
   "file_extension": ".py",
   "mimetype": "text/x-python",
   "name": "python",
   "nbconvert_exporter": "python",
   "pygments_lexer": "ipython3",
   "version": "3.11.4"
  }
 },
 "nbformat": 4,
 "nbformat_minor": 2
}
