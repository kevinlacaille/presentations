{
 "cells": [
  {
   "cell_type": "code",
   "execution_count": null,
   "metadata": {},
   "outputs": [],
   "source": [
    "# Create a mask overlay with purple color (Red + Blue)\n",
    "mask_overlay = np.zeros_like(rgb)\n",
    "mask_overlay[:, :, 0] = 128  # Red channel for purple\n",
    "mask_overlay[:, :, 1] = 0  # Green channel for purple\n",
    "mask_overlay[:, :, 2] = 128  # Blue channel for purple\n",
    "\n",
    "# Apply the filtered mask to the mask overlay\n",
    "mask_overlay[closing != 1] = [0, 0, 0]  # Transparent where mask is not applied\n"
   ]
  },
  {
   "cell_type": "code",
   "execution_count": null,
   "metadata": {},
   "outputs": [],
   "source": [
    "# Create the inverse mask\n",
    "inverse_closing = np.logical_not(closing).astype(np.uint8)\n",
    "\n",
    "# Create an inverse mask overlay with purple color\n",
    "inverse_mask_overlay = np.zeros_like(rgb)\n",
    "inverse_mask_overlay[:, :, 0] = 128  # Red channel for purple\n",
    "inverse_mask_overlay[:, :, 1] = 0  # Green channel for purple\n",
    "inverse_mask_overlay[:, :, 2] = 128  # Blue channel for purple\n",
    "\n",
    "# Apply the inverse mask to the inverse mask overlay\n",
    "inverse_mask_overlay[closing == 1] = [\n",
    "    0, 0, 0\n",
    "]  # Transparent where original mask is applied\n"
   ]
  },
  {
   "cell_type": "code",
   "execution_count": null,
   "metadata": {},
   "outputs": [],
   "source": [
    "fig, ax = plt.subplots(1, 3, figsize=(18, 6))\n",
    "\n",
    "plt.sca(ax[0])\n",
    "plt.imshow(rgb)\n",
    "plt.axis('off')\n",
    "plt.title('RGB')\n",
    "\n",
    "plt.sca(ax[1])\n",
    "plt.imshow(rgb)\n",
    "plt.imshow(mask_overlay, alpha=0.5)\n",
    "plt.axis('off')\n",
    "plt.title('vegetation segmentation')\n",
    "\n",
    "plt.sca(ax[2])\n",
    "plt.imshow(rgb)\n",
    "plt.imshow(inverse_mask_overlay, alpha=0.5)\n",
    "plt.axis('off')\n",
    "plt.title('non-veg segmentation')\n",
    "\n",
    "plt.show()"
   ]
  }
 ],
 "metadata": {
  "language_info": {
   "name": "python"
  }
 },
 "nbformat": 4,
 "nbformat_minor": 2
}
