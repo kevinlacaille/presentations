{
 "cells": [
  {
   "cell_type": "markdown",
   "metadata": {},
   "source": [
    "# Working with Raster Bands\n",
    "\n",
    "## Preparing Your Workspace\n",
    "\n",
    "### Option 1: (recommended) Run in Google Colab\n",
    "[![Open in Colab](https://colab.research.google.com/assets/colab-badge.svg)](https://colab.research.google.com/github/kevinlacaille/presentations/blob/main/scipy2024/2_exif.ipynb)\n",
    "\n",
    "### Option 2: Run local Jupyter instance\n",
    "You can also choose to open this Notebook in your own local Jupyter instance.\n",
    "\n",
    "**Prerequisites**\n",
    "\n",
    "- Install: rasterio, exiftool\n",
    "- Download data"
   ]
  },
  {
   "cell_type": "code",
   "execution_count": null,
   "metadata": {},
   "outputs": [],
   "source": [
    "!pip install rasterio\n",
    "!pip install PyExifTool\n",
    "!wget https://raw.githubusercontent.com/kevinlacaille/presentations/main/scipy2024/data/presentation/8928dec4ddbffff/DJI_0876.JPG"
   ]
  },
  {
   "cell_type": "code",
   "execution_count": null,
   "metadata": {},
   "outputs": [],
   "source": [
    "import rasterio"
   ]
  },
  {
   "cell_type": "code",
   "execution_count": null,
   "metadata": {},
   "outputs": [],
   "source": [
    "import os\n",
    "# Define both potential file paths\n",
    "image_path = \"/content/DJI_0876.JPG\" if os.path.exists(\n",
    "    \"/content/DJI_0876.JPG\"\n",
    ") else \"data/presentation/8928dec4ddbffff/DJI_0876.JPG\""
   ]
  },
  {
   "cell_type": "code",
   "execution_count": null,
   "metadata": {},
   "outputs": [],
   "source": [
    "# import the image\n",
    "with rasterio.open(image_path) as src:\n",
    "    # read the entire image\n",
    "    img = src.read()"
   ]
  },
  {
   "cell_type": "code",
   "execution_count": null,
   "metadata": {},
   "outputs": [],
   "source": [
    "import exiftool\n",
    "import json"
   ]
  },
  {
   "cell_type": "code",
   "execution_count": null,
   "metadata": {},
   "outputs": [],
   "source": [
    "# Extract the metadata from the image\n",
    "with exiftool.ExifTool() as et:\n",
    "    metadata = json.loads(et.execute(b'-j', image_path))"
   ]
  },
  {
   "cell_type": "code",
   "execution_count": null,
   "metadata": {},
   "outputs": [],
   "source": [
    "# Print the metadata json\n",
    "print(json.dumps(metadata, indent=4))"
   ]
  },
  {
   "cell_type": "code",
   "execution_count": null,
   "metadata": {},
   "outputs": [],
   "source": [
    "# Extract the GPS Altitude\n",
    "altitude = float(metadata[0].get(\"XMP:RelativeAltitude\"))\n",
    "focal_length = metadata[0].get(\"EXIF:FocalLength\")  # in mm\n",
    "# Size of pixel = sensor width (m) / image width (px)\n",
    "image_width = metadata[0].get(\"File:ImageWidth\")\n",
    "pixel_pitch = 6.17e-3 / image_width  # sensor width known to be 1/2.3” = 6.17mm\n",
    "\n",
    "print(\"Altitude: \", altitude, \"meters\")\n",
    "print(\"Focal Length: \", focal_length, \"mm\")\n",
    "print(\"Pixel Pitch: \", pixel_pitch, \"meters / px\")"
   ]
  },
  {
   "cell_type": "code",
   "execution_count": null,
   "metadata": {},
   "outputs": [],
   "source": [
    "# Calculate the GSD (Ground Sample Distance)\n",
    "gsd = (altitude * pixel_pitch) / (focal_length / 1000)\n",
    "print(\"GSD: \", gsd, \"meters / px\")\n",
    "print(\"GSD: \", gsd * 100, \"cm / px\")\n"
   ]
  },
  {
   "cell_type": "code",
   "execution_count": null,
   "metadata": {},
   "outputs": [],
   "source": [
    "import numpy as np\n",
    "\n",
    "height_tree = 10  # meters\n",
    "\n",
    "# GSD at the tree height\n",
    "gsd = (altitude - height_tree) * pixel_pitch / focal_length\n",
    "\n",
    "diameter_of_tree = 10  # meters\n",
    "# Number of pixels the tree will cover\n",
    "area_of_tree = diameter_of_tree / gsd\n",
    "print(\"Area of tree: \", int(area_of_tree), \"pixels\")"
   ]
  }
 ],
 "metadata": {
  "kernelspec": {
   "display_name": "scipy2024-env",
   "language": "python",
   "name": "python3"
  },
  "language_info": {
   "codemirror_mode": {
    "name": "ipython",
    "version": 3
   },
   "file_extension": ".py",
   "mimetype": "text/x-python",
   "name": "python",
   "nbconvert_exporter": "python",
   "pygments_lexer": "ipython3",
   "version": "3.11.4"
  }
 },
 "nbformat": 4,
 "nbformat_minor": 2
}
