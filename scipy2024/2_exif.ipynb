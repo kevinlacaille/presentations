{
 "cells": [
  {
   "cell_type": "markdown",
   "metadata": {},
   "source": [
    "# Working with Raster Bands\n",
    "\n",
    "## Preparing Your Workspace\n",
    "\n",
    "### Option 1: (recommended) Run in Google Colab\n",
    "[![Open in Colab](https://colab.research.google.com/assets/colab-badge.svg)](https://colab.research.google.com/github/kevinlacaille/presentations/blob/main/scipy2024/2_exif.ipynb)\n",
    "\n",
    "### Option 2: Run local Jupyter instance\n",
    "You can also choose to open this Notebook in your own local Jupyter instance.\n",
    "\n",
    "**Prerequisites**\n",
    "\n",
    "- Install: rasterio, exiftool\n",
    "- Download data"
   ]
  },
  {
   "cell_type": "code",
   "execution_count": null,
   "metadata": {},
   "outputs": [],
   "source": [
    "!pip install rasterio\n",
    "!pip install PyExifTool\n",
    "!apt-get install -y exiftool\n",
    "!wget https://raw.githubusercontent.com/kevinlacaille/presentations/main/scipy2024/data/presentation/8928dec4ddbffff/DJI_0876.JPG"
   ]
  },
  {
   "cell_type": "code",
   "execution_count": null,
   "metadata": {},
   "outputs": [],
   "source": [
    "import os\n",
    "\n",
    "image_path = \"/content/DJI_0876.JPG\" if os.path.exists(\n",
    "    \"/content/DJI_0876.JPG\"\n",
    ") else \"data/presentation/8928dec4ddbffff/DJI_0876.JPG\""
   ]
  },
  {
   "cell_type": "markdown",
   "metadata": {},
   "source": [
    "Import the image using Rasterio and reads the entire image (all 3 bands, red, green, blue) into a multi-dimensional array."
   ]
  },
  {
   "cell_type": "code",
   "execution_count": null,
   "metadata": {},
   "outputs": [],
   "source": [
    "import rasterio\n",
    "\n",
    "# import the image\n",
    "with rasterio.open(image_path) as src:\n",
    "    # read the entire image\n",
    "    img = src.read()\n",
    "\n",
    "print(img.shape)"
   ]
  },
  {
   "cell_type": "code",
   "execution_count": null,
   "metadata": {},
   "outputs": [],
   "source": [
    "import exiftool\n",
    "import json"
   ]
  },
  {
   "cell_type": "markdown",
   "metadata": {},
   "source": [
    "Extract the metadata from the image using ExifTool and convert it into a useable format (JSON) format for easy manipulation and analysis."
   ]
  },
  {
   "cell_type": "code",
   "execution_count": null,
   "metadata": {},
   "outputs": [],
   "source": [
    "# Extract the metadata from the image\n",
    "with exiftool.ExifTool() as et:\n",
    "    metadata = json.loads(et.execute(b'-j', image_path))"
   ]
  },
  {
   "cell_type": "markdown",
   "metadata": {},
   "source": [
    "Print the extracted metadata from the image, providing detailed information about the image and its properties. Here is a summary of key attributes:\n",
    "\n",
    "- **File Information**: The image file name is `DJI_0876.JPG`, with a size of approximately 5.3 MB.\n",
    "- **Image Details**: The image dimensions are 4000x3000 pixels, with an 8-bit depth and 3 color components. The camera model is `DJI FC3682`.\n",
    "- **EXIF Data**: The exposure time is 0.000625 seconds (1/1600s), with an aperture value of 1.7 and ISO 100. The image was captured on April 20, 2024, at 11:48:07.\n",
    "- **GPS Coordinates**: The image includes GPS metadata, pinpointing the location at latitude 49.2886° N and longitude 122.8356° W, with an altitude of 108.7 meters, relative to the takeoff location.\n",
    "- **Additional Data**: The metadata also contains various details about the camera settings, including exposure program, metering mode, and focal length. The gimbal and flight details such as pitch, yaw, and roll angles are also recorded."
   ]
  },
  {
   "cell_type": "code",
   "execution_count": null,
   "metadata": {},
   "outputs": [],
   "source": [
    "# Print the metadata json\n",
    "print(json.dumps(metadata, indent=4))"
   ]
  },
  {
   "cell_type": "markdown",
   "metadata": {},
   "source": [
    "Set relevant metadata to variables for future analysis."
   ]
  },
  {
   "cell_type": "code",
   "execution_count": null,
   "metadata": {},
   "outputs": [],
   "source": [
    "# Extract the GPS Altitude\n",
    "altitude = float(metadata[0].get(\"XMP:RelativeAltitude\"))\n",
    "focal_length = metadata[0].get(\"EXIF:FocalLength\")  # in mm\n",
    "# Size of pixel = sensor width (m) / image width (px)\n",
    "image_width = metadata[0].get(\"File:ImageWidth\")\n",
    "pixel_pitch = 6.17e-3 / image_width  # sensor width known to be 1/2.3” = 6.17mm\n",
    "\n",
    "print(\"Altitude: \", altitude, \"meters\")\n",
    "print(\"Focal Length: \", focal_length, \"mm\")\n",
    "print(\"Pixel Pitch: \", pixel_pitch, \"meters / px\")"
   ]
  },
  {
   "cell_type": "markdown",
   "metadata": {},
   "source": [
    "Ground Sampling Distance (GSD) is a measure of the spatial resolution of an image, representing the real-world size of one pixel in the image. Namely, how large a pixel is projected on the ground. It is calculated using the formula:\n",
    "\n",
    "$$ \\text{GSD} = \\frac{\\text{altitude} \\times \\text{pixel pitch}}{\\text{focal length}} $$\n",
    "\n",
    "- **Altitude**: The height at which the image was captured above the ground.\n",
    "- **Pixel Pitch**: The physical distance between the centers of two adjacent pixels on the camera sensor.\n",
    "- **Focal Length**: The distance between the camera lens and the sensor.\n",
    "\n",
    "Smaller GSD means higher spatial resolution, as each pixel covers a smaller area on the ground."
   ]
  },
  {
   "cell_type": "code",
   "execution_count": null,
   "metadata": {},
   "outputs": [],
   "source": [
    "# Calculate the GSD (Ground Sample Distance)\n",
    "gsd = (altitude * pixel_pitch) / (focal_length / 1000)\n",
    "\n",
    "# print GSD in meters and cm round to 2 decimal places\n",
    "print(\"GSD: \", round(gsd, 2), \"meters / px\")\n",
    "print(\"GSD: \", round(gsd * 100, 2), \"cm / px\")\n"
   ]
  },
  {
   "cell_type": "markdown",
   "metadata": {},
   "source": [
    "We can estimate how large a tree would look on an image in terms of pixels by adjusting our Ground Sampling Distance (GSD) calculation:\n",
    "\n",
    "$$ \\text{GSD} = \\frac{(\\text{altitude} - \\text{tree height}) \\times \\text{pixel pitch}}{\\text{focal length}} $$\n",
    "\n",
    "In Vancouver, BC, Canada, the average tree's height is about 10 meters and the average tree's cannopy diameter is also about 10 meters."
   ]
  },
  {
   "cell_type": "code",
   "execution_count": null,
   "metadata": {},
   "outputs": [],
   "source": [
    "import numpy as np\n",
    "\n",
    "height_tree = 10  # meters\n",
    "\n",
    "# GSD at the tree height\n",
    "gsd = (altitude - height_tree) * pixel_pitch / focal_length\n",
    "\n",
    "diameter_of_tree = 10  # meters\n",
    "\n",
    "# Number of pixels the tree will cover\n",
    "diameter_of_tree_px = diameter_of_tree / gsd\n",
    "\n",
    "print(\"Area of tree: \", int(diameter_of_tree_px), \"pixels\")"
   ]
  }
 ],
 "metadata": {
  "kernelspec": {
   "display_name": "scipy2024-env",
   "language": "python",
   "name": "python3"
  },
  "language_info": {
   "codemirror_mode": {
    "name": "ipython",
    "version": 3
   },
   "file_extension": ".py",
   "mimetype": "text/x-python",
   "name": "python",
   "nbconvert_exporter": "python",
   "pygments_lexer": "ipython3",
   "version": "3.11.4"
  }
 },
 "nbformat": 4,
 "nbformat_minor": 2
}
