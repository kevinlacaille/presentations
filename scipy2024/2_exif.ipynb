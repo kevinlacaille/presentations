{
 "cells": [
  {
   "cell_type": "code",
   "execution_count": 2,
   "metadata": {},
   "outputs": [],
   "source": [
    "import rasterio"
   ]
  },
  {
   "cell_type": "code",
   "execution_count": 1,
   "metadata": {},
   "outputs": [],
   "source": [
    "image_path = 'data/batch_001/8928dec4ddbffff/DJI_0876.JPG'"
   ]
  },
  {
   "cell_type": "code",
   "execution_count": 3,
   "metadata": {},
   "outputs": [
    {
     "name": "stderr",
     "output_type": "stream",
     "text": [
      "/Users/kevinlacaille/.pyenv/versions/3.11.4/envs/scipy2024-env/lib/python3.11/site-packages/rasterio/__init__.py:304: NotGeoreferencedWarning: Dataset has no geotransform, gcps, or rpcs. The identity matrix will be returned.\n",
      "  dataset = DatasetReader(path, driver=driver, sharing=sharing, **kwargs)\n"
     ]
    }
   ],
   "source": [
    "# import the image\n",
    "with rasterio.open(image_path) as src:\n",
    "    # read the entire image\n",
    "    img = src.read()"
   ]
  },
  {
   "cell_type": "code",
   "execution_count": 18,
   "metadata": {},
   "outputs": [],
   "source": [
    "import exiftool\n",
    "import json"
   ]
  },
  {
   "cell_type": "code",
   "execution_count": 19,
   "metadata": {},
   "outputs": [],
   "source": [
    "# Extract the metadata from the image\n",
    "with exiftool.ExifTool() as et:\n",
    "    metadata = json.loads(et.execute(b'-j', image_path))\n"
   ]
  },
  {
   "cell_type": "code",
   "execution_count": 7,
   "metadata": {},
   "outputs": [
    {
     "name": "stdout",
     "output_type": "stream",
     "text": [
      "[{\n",
      "  \"SourceFile\": \"data/batch_001/8928dec4ddbffff/DJI_0876.JPG\",\n",
      "  \"ExifTool:ExifToolVersion\": 12.60,\n",
      "  \"ExifTool:Warning\": \"[minor] Possibly incorrect maker notes offsets (fix by 1783?)\",\n",
      "  \"File:FileName\": \"DJI_0876.JPG\",\n",
      "  \"File:Directory\": \"data/batch_001/8928dec4ddbffff\",\n",
      "  \"File:FileSize\": 5257518,\n",
      "  \"File:FileModifyDate\": \"2024:06:14 03:25:40-07:00\",\n",
      "  \"File:FileAccessDate\": \"2024:07:02 10:35:17-07:00\",\n",
      "  \"File:FileInodeChangeDate\": \"2024:06:13 20:28:40-07:00\",\n",
      "  \"File:FilePermissions\": 100664,\n",
      "  \"File:FileType\": \"JPEG\",\n",
      "  \"File:FileTypeExtension\": \"JPG\",\n",
      "  \"File:MIMEType\": \"image/jpeg\",\n",
      "  \"File:ExifByteOrder\": \"II\",\n",
      "  \"File:ImageWidth\": 4000,\n",
      "  \"File:ImageHeight\": 3000,\n",
      "  \"File:EncodingProcess\": 0,\n",
      "  \"File:BitsPerSample\": 8,\n",
      "  \"File:ColorComponents\": 3,\n",
      "  \"File:YCbCrSubSampling\": \"2 1\",\n",
      "  \"EXIF:ImageDescription\": \"DCIM\\\\108MEDIA\\\\DJI_0876.JPG\",\n",
      "  \"EXIF:Make\": \"DJI\",\n",
      "  \"EXIF:Model\": \"FC3682\",\n",
      "  \"EXIF:Orientation\": 1,\n",
      "  \"EXIF:XResolution\": 72,\n",
      "  \"EXIF:YResolution\": 72,\n",
      "  \"EXIF:ResolutionUnit\": 2,\n",
      "  \"EXIF:Software\": \"v01.64.0152\",\n",
      "  \"EXIF:ModifyDate\": \"2024:04:20 11:48:07\",\n",
      "  \"EXIF:YCbCrPositioning\": 1,\n",
      "  \"EXIF:ExposureTime\": 0.000625,\n",
      "  \"EXIF:FNumber\": 1.7,\n",
      "  \"EXIF:ExposureProgram\": 2,\n",
      "  \"EXIF:ISO\": 100,\n",
      "  \"EXIF:ExifVersion\": \"0230\",\n",
      "  \"EXIF:DateTimeOriginal\": \"2024:04:20 11:48:07\",\n",
      "  \"EXIF:CreateDate\": \"2024:04:20 11:48:07\",\n",
      "  \"EXIF:ComponentsConfiguration\": \"1 2 3 0\",\n",
      "  \"EXIF:CompressedBitsPerPixel\": 3.313564667,\n",
      "  \"EXIF:ShutterSpeedValue\": \"0.000625024342839001\",\n",
      "  \"EXIF:ApertureValue\": 1.6993699982773,\n",
      "  \"EXIF:ExposureCompensation\": 0,\n",
      "  \"EXIF:MaxApertureValue\": 1.6993699982773,\n",
      "  \"EXIF:SubjectDistance\": 0,\n",
      "  \"EXIF:MeteringMode\": 2,\n",
      "  \"EXIF:LightSource\": 1,\n",
      "  \"EXIF:Flash\": 32,\n",
      "  \"EXIF:FocalLength\": 6.72,\n",
      "  \"EXIF:FlashpixVersion\": \"0100\",\n",
      "  \"EXIF:ColorSpace\": 1,\n",
      "  \"EXIF:ExifImageWidth\": 4000,\n",
      "  \"EXIF:ExifImageHeight\": 3000,\n",
      "  \"EXIF:InteropIndex\": \"R98\",\n",
      "  \"EXIF:InteropVersion\": \"0100\",\n",
      "  \"EXIF:ExposureIndex\": \"undef\",\n",
      "  \"EXIF:FileSource\": 3,\n",
      "  \"EXIF:SceneType\": 1,\n",
      "  \"EXIF:CustomRendered\": 0,\n",
      "  \"EXIF:ExposureMode\": 0,\n",
      "  \"EXIF:WhiteBalance\": 0,\n",
      "  \"EXIF:DigitalZoomRatio\": 1,\n",
      "  \"EXIF:FocalLengthIn35mmFormat\": 24,\n",
      "  \"EXIF:SceneCaptureType\": 0,\n",
      "  \"EXIF:GainControl\": 0,\n",
      "  \"EXIF:Contrast\": 0,\n",
      "  \"EXIF:Saturation\": 0,\n",
      "  \"EXIF:Sharpness\": 0,\n",
      "  \"EXIF:SubjectDistanceRange\": 0,\n",
      "  \"EXIF:SerialNumber\": \"53HQL6R0M5066C\",\n",
      "  \"EXIF:GPSVersionID\": \"2 3 0 0\",\n",
      "  \"EXIF:GPSLatitudeRef\": \"N\",\n",
      "  \"EXIF:GPSLatitude\": 49.2885553888889,\n",
      "  \"EXIF:GPSLongitudeRef\": \"W\",\n",
      "  \"EXIF:GPSLongitude\": 122.835592166667,\n",
      "  \"EXIF:GPSAltitudeRef\": 0,\n",
      "  \"EXIF:GPSAltitude\": 125.09,\n",
      "  \"EXIF:XPComment\": \"Type=N, Mode=P, DE=None\",\n",
      "  \"EXIF:XPKeywords\": \"v01.64.0152;UnKnown;v1.0.0\",\n",
      "  \"EXIF:Compression\": 6,\n",
      "  \"EXIF:ThumbnailOffset\": 18432,\n",
      "  \"EXIF:ThumbnailLength\": 10450,\n",
      "  \"EXIF:ThumbnailImage\": \"(Binary data 10450 bytes, use -b option to extract)\",\n",
      "  \"MakerNotes:Make\": \"DJI\",\n",
      "  \"MakerNotes:SpeedX\": 0,\n",
      "  \"MakerNotes:SpeedY\": -0.5,\n",
      "  \"MakerNotes:SpeedZ\": -0.100000001490116,\n",
      "  \"MakerNotes:Pitch\": -0.300000011920929,\n",
      "  \"MakerNotes:Yaw\": -179.899993896484,\n",
      "  \"MakerNotes:Roll\": -8.19999980926514,\n",
      "  \"XMP:About\": \"DJI Meta Data\",\n",
      "  \"XMP:ModifyDate\": \"2024:04:20\",\n",
      "  \"XMP:CreateDate\": \"2024:04:20\",\n",
      "  \"XMP:Make\": \"DJI\",\n",
      "  \"XMP:Model\": \"FC3682\",\n",
      "  \"XMP:Format\": \"image/jpg\",\n",
      "  \"XMP:AbsoluteAltitude\": \"+125.09\",\n",
      "  \"XMP:RelativeAltitude\": \"+108.70\",\n",
      "  \"XMP:GimbalRollDegree\": \"+0.00\",\n",
      "  \"XMP:GimbalYawDegree\": \"+0.00\",\n",
      "  \"XMP:GimbalPitchDegree\": \"+0.00\",\n",
      "  \"XMP:FlightRollDegree\": -8.20,\n",
      "  \"XMP:FlightYawDegree\": -179.90,\n",
      "  \"XMP:FlightPitchDegree\": -0.30,\n",
      "  \"XMP:CamReverse\": 0,\n",
      "  \"XMP:GimbalReverse\": 0,\n",
      "  \"XMP:SensorTemperature\": 31,\n",
      "  \"XMP:Version\": 7.0,\n",
      "  \"XMP:HasSettings\": false,\n",
      "  \"XMP:HasCrop\": false,\n",
      "  \"XMP:AlreadyApplied\": false,\n",
      "  \"MPF:MPFVersion\": \"0010\",\n",
      "  \"MPF:NumberOfImages\": 2,\n",
      "  \"MPF:MPImageFlags\": 8,\n",
      "  \"MPF:MPImageFormat\": 0,\n",
      "  \"MPF:MPImageType\": 65537,\n",
      "  \"MPF:MPImageLength\": 249953,\n",
      "  \"MPF:MPImageStart\": 5007565,\n",
      "  \"MPF:DependentImage1EntryNumber\": 0,\n",
      "  \"MPF:DependentImage2EntryNumber\": 0,\n",
      "  \"MPF:ImageUIDList\": \"(Binary data 66 bytes, use -b option to extract)\",\n",
      "  \"MPF:TotalFrames\": 1,\n",
      "  \"MPF:PreviewImage\": \"(Binary data 249953 bytes, use -b option to extract)\",\n",
      "  \"Composite:Aperture\": 1.7,\n",
      "  \"Composite:ImageSize\": \"4000 3000\",\n",
      "  \"Composite:Megapixels\": 12,\n",
      "  \"Composite:ScaleFactor35efl\": 3.57142857142857,\n",
      "  \"Composite:ShutterSpeed\": 0.000625,\n",
      "  \"Composite:GPSAltitude\": 125.09,\n",
      "  \"Composite:GPSLatitude\": 49.2885553888889,\n",
      "  \"Composite:GPSLongitude\": -122.835592166667,\n",
      "  \"Composite:CircleOfConfusion\": \"0.00841295297608264\",\n",
      "  \"Composite:FOV\": 73.7398575770812,\n",
      "  \"Composite:FocalLength35efl\": 24,\n",
      "  \"Composite:GPSPosition\": \"49.2885553888889 -122.835592166667\",\n",
      "  \"Composite:HyperfocalDistance\": 3.15748403460723,\n",
      "  \"Composite:LightValue\": 12.1749256825007\n",
      "}]\n",
      "\n"
     ]
    }
   ],
   "source": [
    "print(metadata)"
   ]
  },
  {
   "cell_type": "code",
   "execution_count": 36,
   "metadata": {},
   "outputs": [
    {
     "name": "stdout",
     "output_type": "stream",
     "text": [
      "Altitude:  125.09 meters\n",
      "Focal Length:  6.72 mm\n",
      "Pixel Pitch:  1.5425e-06 meters / px\n"
     ]
    }
   ],
   "source": [
    "# Extract the GPS Altitude\n",
    "altitude = metadata[0].get(\"EXIF:GPSAltitude\")\n",
    "focal_length = metadata[0].get(\"EXIF:FocalLength\")  # in mm\n",
    "# Size of pixel = sensor width (m) / image width (px)\n",
    "pixel_pitch = 6.17e-3 / src.width  # sensor width known to be 1/2.3” = 6.17mm\n",
    "\n",
    "print(\"Altitude: \", altitude, \"meters\")\n",
    "print(\"Focal Length: \", focal_length, \"mm\")\n",
    "print(\"Pixel Pitch: \", pixel_pitch, \"meters / px\")"
   ]
  },
  {
   "cell_type": "code",
   "execution_count": 37,
   "metadata": {},
   "outputs": [
    {
     "name": "stdout",
     "output_type": "stream",
     "text": [
      "GSD:  0.028712994791666672 meters / px\n",
      "GSD:  2.8712994791666673 cm / px\n"
     ]
    }
   ],
   "source": [
    "# Calculate the GSD (Ground Sample Distance)\n",
    "gsd = (altitude * pixel_pitch) / (focal_length / 1000)\n",
    "print(\"GSD: \", gsd, \"meters / px\")\n",
    "print(\"GSD: \", gsd * 100, \"cm / px\")\n"
   ]
  },
  {
   "cell_type": "code",
   "execution_count": 40,
   "metadata": {},
   "outputs": [
    {
     "name": "stdout",
     "output_type": "stream",
     "text": [
      "Area of tree: 112538961171.59 pixels\n"
     ]
    }
   ],
   "source": [
    "import numpy as np\n",
    "\n",
    "height_tree = 10  # meters\n",
    "\n",
    "# GSD at the tree height\n",
    "gsd = (altitude - height_tree) * pixel_pitch / focal_length\n",
    "\n",
    "diameter_of_tree = 10  # meters\n",
    "diameter_of_tree_pixels = diameter_of_tree / gsd\n",
    "area_of_tree = np.pi * (diameter_of_tree_pixels / 2)**2\n",
    "print(f'Area of tree: {area_of_tree:.2f} pixels')"
   ]
  }
 ],
 "metadata": {
  "kernelspec": {
   "display_name": "scipy2024-env",
   "language": "python",
   "name": "python3"
  },
  "language_info": {
   "codemirror_mode": {
    "name": "ipython",
    "version": 3
   },
   "file_extension": ".py",
   "mimetype": "text/x-python",
   "name": "python",
   "nbconvert_exporter": "python",
   "pygments_lexer": "ipython3",
   "version": "3.11.4"
  }
 },
 "nbformat": 4,
 "nbformat_minor": 2
}
