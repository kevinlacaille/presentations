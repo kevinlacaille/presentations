{
 "cells": [
  {
   "cell_type": "code",
   "execution_count": 1,
   "metadata": {},
   "outputs": [],
   "source": [
    "import rasterio"
   ]
  },
  {
   "cell_type": "code",
   "execution_count": 2,
   "metadata": {},
   "outputs": [],
   "source": [
    "image_path = 'data/batch_001/8928dec4ddbffff/DJI_0876.JPG'"
   ]
  },
  {
   "cell_type": "code",
   "execution_count": 3,
   "metadata": {},
   "outputs": [
    {
     "name": "stderr",
     "output_type": "stream",
     "text": [
      "/Users/kevinlacaille/.pyenv/versions/3.11.4/envs/scipy2024-env/lib/python3.11/site-packages/rasterio/__init__.py:304: NotGeoreferencedWarning: Dataset has no geotransform, gcps, or rpcs. The identity matrix will be returned.\n",
      "  dataset = DatasetReader(path, driver=driver, sharing=sharing, **kwargs)\n"
     ]
    }
   ],
   "source": [
    "# import the image\n",
    "with rasterio.open(image_path) as src:\n",
    "    # read the entire image\n",
    "    img = src.read()"
   ]
  },
  {
   "cell_type": "code",
   "execution_count": 4,
   "metadata": {},
   "outputs": [],
   "source": [
    "import exiftool\n",
    "import json"
   ]
  },
  {
   "cell_type": "code",
   "execution_count": 5,
   "metadata": {},
   "outputs": [],
   "source": [
    "# Extract the metadata from the image\n",
    "with exiftool.ExifTool() as et:\n",
    "    metadata = json.loads(et.execute(b'-j', image_path))\n"
   ]
  },
  {
   "cell_type": "code",
   "execution_count": 6,
   "metadata": {},
   "outputs": [
    {
     "name": "stdout",
     "output_type": "stream",
     "text": [
      "[{'SourceFile': 'data/batch_001/8928dec4ddbffff/DJI_0876.JPG', 'ExifTool:ExifToolVersion': 12.6, 'ExifTool:Warning': '[minor] Possibly incorrect maker notes offsets (fix by 1783?)', 'File:FileName': 'DJI_0876.JPG', 'File:Directory': 'data/batch_001/8928dec4ddbffff', 'File:FileSize': 5257518, 'File:FileModifyDate': '2024:06:14 03:25:40-07:00', 'File:FileAccessDate': '2024:07:02 10:35:17-07:00', 'File:FileInodeChangeDate': '2024:06:13 20:28:40-07:00', 'File:FilePermissions': 100664, 'File:FileType': 'JPEG', 'File:FileTypeExtension': 'JPG', 'File:MIMEType': 'image/jpeg', 'File:ExifByteOrder': 'II', 'File:ImageWidth': 4000, 'File:ImageHeight': 3000, 'File:EncodingProcess': 0, 'File:BitsPerSample': 8, 'File:ColorComponents': 3, 'File:YCbCrSubSampling': '2 1', 'EXIF:ImageDescription': 'DCIM\\\\108MEDIA\\\\DJI_0876.JPG', 'EXIF:Make': 'DJI', 'EXIF:Model': 'FC3682', 'EXIF:Orientation': 1, 'EXIF:XResolution': 72, 'EXIF:YResolution': 72, 'EXIF:ResolutionUnit': 2, 'EXIF:Software': 'v01.64.0152', 'EXIF:ModifyDate': '2024:04:20 11:48:07', 'EXIF:YCbCrPositioning': 1, 'EXIF:ExposureTime': 0.000625, 'EXIF:FNumber': 1.7, 'EXIF:ExposureProgram': 2, 'EXIF:ISO': 100, 'EXIF:ExifVersion': '0230', 'EXIF:DateTimeOriginal': '2024:04:20 11:48:07', 'EXIF:CreateDate': '2024:04:20 11:48:07', 'EXIF:ComponentsConfiguration': '1 2 3 0', 'EXIF:CompressedBitsPerPixel': 3.313564667, 'EXIF:ShutterSpeedValue': '0.000625024342839001', 'EXIF:ApertureValue': 1.6993699982773, 'EXIF:ExposureCompensation': 0, 'EXIF:MaxApertureValue': 1.6993699982773, 'EXIF:SubjectDistance': 0, 'EXIF:MeteringMode': 2, 'EXIF:LightSource': 1, 'EXIF:Flash': 32, 'EXIF:FocalLength': 6.72, 'EXIF:FlashpixVersion': '0100', 'EXIF:ColorSpace': 1, 'EXIF:ExifImageWidth': 4000, 'EXIF:ExifImageHeight': 3000, 'EXIF:InteropIndex': 'R98', 'EXIF:InteropVersion': '0100', 'EXIF:ExposureIndex': 'undef', 'EXIF:FileSource': 3, 'EXIF:SceneType': 1, 'EXIF:CustomRendered': 0, 'EXIF:ExposureMode': 0, 'EXIF:WhiteBalance': 0, 'EXIF:DigitalZoomRatio': 1, 'EXIF:FocalLengthIn35mmFormat': 24, 'EXIF:SceneCaptureType': 0, 'EXIF:GainControl': 0, 'EXIF:Contrast': 0, 'EXIF:Saturation': 0, 'EXIF:Sharpness': 0, 'EXIF:SubjectDistanceRange': 0, 'EXIF:SerialNumber': '53HQL6R0M5066C', 'EXIF:GPSVersionID': '2 3 0 0', 'EXIF:GPSLatitudeRef': 'N', 'EXIF:GPSLatitude': 49.2885553888889, 'EXIF:GPSLongitudeRef': 'W', 'EXIF:GPSLongitude': 122.835592166667, 'EXIF:GPSAltitudeRef': 0, 'EXIF:GPSAltitude': 125.09, 'EXIF:XPComment': 'Type=N, Mode=P, DE=None', 'EXIF:XPKeywords': 'v01.64.0152;UnKnown;v1.0.0', 'EXIF:Compression': 6, 'EXIF:ThumbnailOffset': 18432, 'EXIF:ThumbnailLength': 10450, 'EXIF:ThumbnailImage': '(Binary data 10450 bytes, use -b option to extract)', 'MakerNotes:Make': 'DJI', 'MakerNotes:SpeedX': 0, 'MakerNotes:SpeedY': -0.5, 'MakerNotes:SpeedZ': -0.100000001490116, 'MakerNotes:Pitch': -0.300000011920929, 'MakerNotes:Yaw': -179.899993896484, 'MakerNotes:Roll': -8.19999980926514, 'XMP:About': 'DJI Meta Data', 'XMP:ModifyDate': '2024:04:20', 'XMP:CreateDate': '2024:04:20', 'XMP:Make': 'DJI', 'XMP:Model': 'FC3682', 'XMP:Format': 'image/jpg', 'XMP:AbsoluteAltitude': '+125.09', 'XMP:RelativeAltitude': '+108.70', 'XMP:GimbalRollDegree': '+0.00', 'XMP:GimbalYawDegree': '+0.00', 'XMP:GimbalPitchDegree': '+0.00', 'XMP:FlightRollDegree': -8.2, 'XMP:FlightYawDegree': -179.9, 'XMP:FlightPitchDegree': -0.3, 'XMP:CamReverse': 0, 'XMP:GimbalReverse': 0, 'XMP:SensorTemperature': 31, 'XMP:Version': 7.0, 'XMP:HasSettings': False, 'XMP:HasCrop': False, 'XMP:AlreadyApplied': False, 'MPF:MPFVersion': '0010', 'MPF:NumberOfImages': 2, 'MPF:MPImageFlags': 8, 'MPF:MPImageFormat': 0, 'MPF:MPImageType': 65537, 'MPF:MPImageLength': 249953, 'MPF:MPImageStart': 5007565, 'MPF:DependentImage1EntryNumber': 0, 'MPF:DependentImage2EntryNumber': 0, 'MPF:ImageUIDList': '(Binary data 66 bytes, use -b option to extract)', 'MPF:TotalFrames': 1, 'MPF:PreviewImage': '(Binary data 249953 bytes, use -b option to extract)', 'Composite:Aperture': 1.7, 'Composite:ImageSize': '4000 3000', 'Composite:Megapixels': 12, 'Composite:ScaleFactor35efl': 3.57142857142857, 'Composite:ShutterSpeed': 0.000625, 'Composite:GPSAltitude': 125.09, 'Composite:GPSLatitude': 49.2885553888889, 'Composite:GPSLongitude': -122.835592166667, 'Composite:CircleOfConfusion': '0.00841295297608264', 'Composite:FOV': 73.7398575770812, 'Composite:FocalLength35efl': 24, 'Composite:GPSPosition': '49.2885553888889 -122.835592166667', 'Composite:HyperfocalDistance': 3.15748403460723, 'Composite:LightValue': 12.1749256825007}]\n"
     ]
    }
   ],
   "source": [
    "print(metadata)"
   ]
  },
  {
   "cell_type": "code",
   "execution_count": 12,
   "metadata": {},
   "outputs": [
    {
     "name": "stdout",
     "output_type": "stream",
     "text": [
      "Altitude:  125.09 meters\n",
      "Focal Length:  6.72 mm\n",
      "Pixel Pitch:  1.5425e-06 meters / px\n"
     ]
    }
   ],
   "source": [
    "# Extract the GPS Altitude\n",
    "altitude = metadata[0].get(\"EXIF:GPSAltitude\")\n",
    "focal_length = metadata[0].get(\"EXIF:FocalLength\")  # in mm\n",
    "# Size of pixel = sensor width (m) / image width (px)\n",
    "image_width = metadata[0].get(\"File:ImageWidth\")\n",
    "pixel_pitch = 6.17e-3 / image_width  # sensor width known to be 1/2.3” = 6.17mm\n",
    "\n",
    "print(\"Altitude: \", altitude, \"meters\")\n",
    "print(\"Focal Length: \", focal_length, \"mm\")\n",
    "print(\"Pixel Pitch: \", pixel_pitch, \"meters / px\")"
   ]
  },
  {
   "cell_type": "code",
   "execution_count": 13,
   "metadata": {},
   "outputs": [
    {
     "name": "stdout",
     "output_type": "stream",
     "text": [
      "GSD:  0.028712994791666672 meters / px\n",
      "GSD:  2.8712994791666673 cm / px\n"
     ]
    }
   ],
   "source": [
    "# Calculate the GSD (Ground Sample Distance)\n",
    "gsd = (altitude * pixel_pitch) / (focal_length / 1000)\n",
    "print(\"GSD: \", gsd, \"meters / px\")\n",
    "print(\"GSD: \", gsd * 100, \"cm / px\")\n"
   ]
  },
  {
   "cell_type": "code",
   "execution_count": 43,
   "metadata": {},
   "outputs": [
    {
     "name": "stdout",
     "output_type": "stream",
     "text": [
      "Area of tree:  378535 pixels\n"
     ]
    }
   ],
   "source": [
    "import numpy as np\n",
    "\n",
    "height_tree = 10  # meters\n",
    "\n",
    "# GSD at the tree height\n",
    "gsd = (altitude - height_tree) * pixel_pitch / focal_length\n",
    "\n",
    "diameter_of_tree = 10  # meters\n",
    "# Number of pixels the tree will cover\n",
    "area_of_tree = diameter_of_tree / gsd\n",
    "print(\"Area of tree: \", int(area_of_tree), \"pixels\")"
   ]
  }
 ],
 "metadata": {
  "kernelspec": {
   "display_name": "scipy2024-env",
   "language": "python",
   "name": "python3"
  },
  "language_info": {
   "codemirror_mode": {
    "name": "ipython",
    "version": 3
   },
   "file_extension": ".py",
   "mimetype": "text/x-python",
   "name": "python",
   "nbconvert_exporter": "python",
   "pygments_lexer": "ipython3",
   "version": "3.11.4"
  }
 },
 "nbformat": 4,
 "nbformat_minor": 2
}
