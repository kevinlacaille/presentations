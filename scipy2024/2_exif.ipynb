{
 "cells": [
  {
   "cell_type": "markdown",
   "metadata": {},
   "source": [
    "# Working with Raster Bands\n",
    "\n",
    "## Preparing Your Workspace\n",
    "\n",
    "### Option 1: (recommended) Run in Google Colab\n",
    "[![Open in Colab](https://colab.research.google.com/assets/colab-badge.svg)](https://colab.research.google.com/github/kevinlacaille/presentations/blob/main/scipy2024/2_exif.ipynb)\n",
    "\n",
    "### Option 2: Run local Jupyter instance\n",
    "You can also choose to open this Notebook in your own local Jupyter instance.\n",
    "\n",
    "**Prerequisites**\n",
    "\n",
    "- Install: rasterio, exiftool"
   ]
  },
  {
   "cell_type": "code",
   "execution_count": null,
   "metadata": {},
   "outputs": [],
   "source": [
    "!pip install rasterio\n",
    "!pip install PyExifTool"
   ]
  },
  {
   "cell_type": "code",
   "execution_count": 1,
   "metadata": {},
   "outputs": [],
   "source": [
    "import rasterio"
   ]
  },
  {
   "cell_type": "code",
   "execution_count": 15,
   "metadata": {},
   "outputs": [],
   "source": [
    "image_path = 'data/presentation/8928de8dd83ffff/20213/DJI_0681.JPG'\n"
   ]
  },
  {
   "cell_type": "code",
   "execution_count": 16,
   "metadata": {},
   "outputs": [
    {
     "name": "stderr",
     "output_type": "stream",
     "text": [
      "/Users/kevinlacaille/.pyenv/versions/3.11.4/envs/scipy2024-env/lib/python3.11/site-packages/rasterio/__init__.py:304: NotGeoreferencedWarning: Dataset has no geotransform, gcps, or rpcs. The identity matrix will be returned.\n",
      "  dataset = DatasetReader(path, driver=driver, sharing=sharing, **kwargs)\n"
     ]
    }
   ],
   "source": [
    "# import the image\n",
    "with rasterio.open(image_path) as src:\n",
    "    # read the entire image\n",
    "    img = src.read()"
   ]
  },
  {
   "cell_type": "code",
   "execution_count": 4,
   "metadata": {},
   "outputs": [],
   "source": [
    "import exiftool\n",
    "import json"
   ]
  },
  {
   "cell_type": "code",
   "execution_count": 17,
   "metadata": {},
   "outputs": [],
   "source": [
    "# Extract the metadata from the image\n",
    "with exiftool.ExifTool() as et:\n",
    "    metadata = json.loads(et.execute(b'-j', image_path))\n"
   ]
  },
  {
   "cell_type": "code",
   "execution_count": 18,
   "metadata": {},
   "outputs": [
    {
     "name": "stdout",
     "output_type": "stream",
     "text": [
      "[\n",
      "    {\n",
      "        \"SourceFile\": \"data/presentation/8928de8dd83ffff/20213/DJI_0681.JPG\",\n",
      "        \"ExifTool:ExifToolVersion\": 12.6,\n",
      "        \"ExifTool:Warning\": \"[minor] Possibly incorrect maker notes offsets (fix by 1783?)\",\n",
      "        \"File:FileName\": \"DJI_0681.JPG\",\n",
      "        \"File:Directory\": \"data/presentation/8928de8dd83ffff/20213\",\n",
      "        \"File:FileSize\": 5224815,\n",
      "        \"File:FileModifyDate\": \"2024:04:22 11:45:25-07:00\",\n",
      "        \"File:FileAccessDate\": \"2024:07:06 23:20:30-07:00\",\n",
      "        \"File:FileInodeChangeDate\": \"2024:07:06 23:20:29-07:00\",\n",
      "        \"File:FilePermissions\": 100644,\n",
      "        \"File:FileType\": \"JPEG\",\n",
      "        \"File:FileTypeExtension\": \"JPG\",\n",
      "        \"File:MIMEType\": \"image/jpeg\",\n",
      "        \"File:ExifByteOrder\": \"II\",\n",
      "        \"File:ImageWidth\": 4000,\n",
      "        \"File:ImageHeight\": 3000,\n",
      "        \"File:EncodingProcess\": 0,\n",
      "        \"File:BitsPerSample\": 8,\n",
      "        \"File:ColorComponents\": 3,\n",
      "        \"File:YCbCrSubSampling\": \"2 1\",\n",
      "        \"EXIF:ImageDescription\": \"DCIM\\\\100MEDIA\\\\DJI_0681.JPG\",\n",
      "        \"EXIF:Make\": \"DJI\",\n",
      "        \"EXIF:Model\": \"FC3682\",\n",
      "        \"EXIF:Orientation\": 1,\n",
      "        \"EXIF:XResolution\": 72,\n",
      "        \"EXIF:YResolution\": 72,\n",
      "        \"EXIF:ResolutionUnit\": 2,\n",
      "        \"EXIF:Software\": \"v01.64.0152\",\n",
      "        \"EXIF:ModifyDate\": \"2024:04:22 09:46:59\",\n",
      "        \"EXIF:YCbCrPositioning\": 1,\n",
      "        \"EXIF:ExposureTime\": 0.001,\n",
      "        \"EXIF:FNumber\": 1.7,\n",
      "        \"EXIF:ExposureProgram\": 2,\n",
      "        \"EXIF:ISO\": 100,\n",
      "        \"EXIF:ExifVersion\": \"0230\",\n",
      "        \"EXIF:DateTimeOriginal\": \"2024:04:22 09:46:59\",\n",
      "        \"EXIF:CreateDate\": \"2024:04:22 09:46:59\",\n",
      "        \"EXIF:ComponentsConfiguration\": \"1 2 3 0\",\n",
      "        \"EXIF:CompressedBitsPerPixel\": 3.289884667,\n",
      "        \"EXIF:ShutterSpeedValue\": \"0.00100005842338247\",\n",
      "        \"EXIF:ApertureValue\": 1.6993699982773,\n",
      "        \"EXIF:ExposureCompensation\": 0,\n",
      "        \"EXIF:MaxApertureValue\": 1.6993699982773,\n",
      "        \"EXIF:SubjectDistance\": 0,\n",
      "        \"EXIF:MeteringMode\": 2,\n",
      "        \"EXIF:LightSource\": 1,\n",
      "        \"EXIF:Flash\": 32,\n",
      "        \"EXIF:FocalLength\": 6.72,\n",
      "        \"EXIF:FlashpixVersion\": \"0100\",\n",
      "        \"EXIF:ColorSpace\": 1,\n",
      "        \"EXIF:ExifImageWidth\": 4000,\n",
      "        \"EXIF:ExifImageHeight\": 3000,\n",
      "        \"EXIF:InteropIndex\": \"R98\",\n",
      "        \"EXIF:InteropVersion\": \"0100\",\n",
      "        \"EXIF:ExposureIndex\": \"undef\",\n",
      "        \"EXIF:FileSource\": 3,\n",
      "        \"EXIF:SceneType\": 1,\n",
      "        \"EXIF:CustomRendered\": 0,\n",
      "        \"EXIF:ExposureMode\": 0,\n",
      "        \"EXIF:WhiteBalance\": 0,\n",
      "        \"EXIF:DigitalZoomRatio\": 1,\n",
      "        \"EXIF:FocalLengthIn35mmFormat\": 24,\n",
      "        \"EXIF:SceneCaptureType\": 0,\n",
      "        \"EXIF:GainControl\": 0,\n",
      "        \"EXIF:Contrast\": 0,\n",
      "        \"EXIF:Saturation\": 0,\n",
      "        \"EXIF:Sharpness\": 0,\n",
      "        \"EXIF:SubjectDistanceRange\": 0,\n",
      "        \"EXIF:SerialNumber\": \"53HQL6S0M506T9\",\n",
      "        \"EXIF:GPSVersionID\": \"2 3 0 0\",\n",
      "        \"EXIF:GPSLatitudeRef\": \"N\",\n",
      "        \"EXIF:GPSLatitude\": 49.2670478611111,\n",
      "        \"EXIF:GPSLongitudeRef\": \"W\",\n",
      "        \"EXIF:GPSLongitude\": 123.156746361111,\n",
      "        \"EXIF:GPSAltitudeRef\": 0,\n",
      "        \"EXIF:GPSAltitude\": 29.063,\n",
      "        \"EXIF:XPComment\": \"Type=N, Mode=P, DE=None\",\n",
      "        \"EXIF:XPKeywords\": \"v01.64.0152;UnKnown;v1.0.0\",\n",
      "        \"EXIF:Compression\": 6,\n",
      "        \"EXIF:ThumbnailOffset\": 18432,\n",
      "        \"EXIF:ThumbnailLength\": 11983,\n",
      "        \"EXIF:ThumbnailImage\": \"(Binary data 11983 bytes, use -b option to extract)\",\n",
      "        \"MakerNotes:Make\": \"DJI\",\n",
      "        \"MakerNotes:SpeedX\": 0,\n",
      "        \"MakerNotes:SpeedY\": 0.100000001490116,\n",
      "        \"MakerNotes:SpeedZ\": 0,\n",
      "        \"MakerNotes:Pitch\": 5.59999990463257,\n",
      "        \"MakerNotes:Yaw\": -179.699996948242,\n",
      "        \"MakerNotes:Roll\": 6.30000019073486,\n",
      "        \"XMP:About\": \"DJI Meta Data\",\n",
      "        \"XMP:ModifyDate\": \"2024:04:22\",\n",
      "        \"XMP:CreateDate\": \"2024:04:22\",\n",
      "        \"XMP:Make\": \"DJI\",\n",
      "        \"XMP:Model\": \"FC3682\",\n",
      "        \"XMP:Format\": \"image/jpg\",\n",
      "        \"XMP:AbsoluteAltitude\": \"+29.06\",\n",
      "        \"XMP:RelativeAltitude\": \"+87.20\",\n",
      "        \"XMP:GimbalRollDegree\": \"+0.00\",\n",
      "        \"XMP:GimbalYawDegree\": \"+0.00\",\n",
      "        \"XMP:GimbalPitchDegree\": \"+0.00\",\n",
      "        \"XMP:FlightRollDegree\": \"+6.30\",\n",
      "        \"XMP:FlightYawDegree\": -179.7,\n",
      "        \"XMP:FlightPitchDegree\": \"+5.60\",\n",
      "        \"XMP:CamReverse\": 0,\n",
      "        \"XMP:GimbalReverse\": 0,\n",
      "        \"XMP:SensorTemperature\": 22,\n",
      "        \"XMP:Version\": 7.0,\n",
      "        \"XMP:HasSettings\": false,\n",
      "        \"XMP:HasCrop\": false,\n",
      "        \"XMP:AlreadyApplied\": false,\n",
      "        \"MPF:MPFVersion\": \"0010\",\n",
      "        \"MPF:NumberOfImages\": 2,\n",
      "        \"MPF:MPImageFlags\": 8,\n",
      "        \"MPF:MPImageFormat\": 0,\n",
      "        \"MPF:MPImageType\": 65537,\n",
      "        \"MPF:MPImageLength\": 251237,\n",
      "        \"MPF:MPImageStart\": 4973578,\n",
      "        \"MPF:DependentImage1EntryNumber\": 0,\n",
      "        \"MPF:DependentImage2EntryNumber\": 0,\n",
      "        \"MPF:ImageUIDList\": \"(Binary data 66 bytes, use -b option to extract)\",\n",
      "        \"MPF:TotalFrames\": 1,\n",
      "        \"MPF:PreviewImage\": \"(Binary data 251237 bytes, use -b option to extract)\",\n",
      "        \"Composite:Aperture\": 1.7,\n",
      "        \"Composite:ImageSize\": \"4000 3000\",\n",
      "        \"Composite:Megapixels\": 12,\n",
      "        \"Composite:ScaleFactor35efl\": 3.57142857142857,\n",
      "        \"Composite:ShutterSpeed\": 0.001,\n",
      "        \"Composite:GPSAltitude\": 29.063,\n",
      "        \"Composite:GPSLatitude\": 49.2670478611111,\n",
      "        \"Composite:GPSLongitude\": -123.156746361111,\n",
      "        \"Composite:CircleOfConfusion\": \"0.00841295297608264\",\n",
      "        \"Composite:FOV\": 73.7398575770812,\n",
      "        \"Composite:FocalLength35efl\": 24,\n",
      "        \"Composite:GPSPosition\": \"49.2670478611111 -123.156746361111\",\n",
      "        \"Composite:HyperfocalDistance\": 3.15748403460723,\n",
      "        \"Composite:LightValue\": 11.496853777388\n",
      "    }\n",
      "]\n"
     ]
    }
   ],
   "source": [
    "# Print the metadata json\n",
    "print(json.dumps(metadata, indent=4))"
   ]
  },
  {
   "cell_type": "code",
   "execution_count": 20,
   "metadata": {},
   "outputs": [
    {
     "name": "stdout",
     "output_type": "stream",
     "text": [
      "Altitude:  87.2 meters\n",
      "Focal Length:  6.72 mm\n",
      "Pixel Pitch:  1.5425e-06 meters / px\n"
     ]
    }
   ],
   "source": [
    "# Extract the GPS Altitude\n",
    "altitude = float(metadata[0].get(\"XMP:RelativeAltitude\"))\n",
    "focal_length = metadata[0].get(\"EXIF:FocalLength\")  # in mm\n",
    "# Size of pixel = sensor width (m) / image width (px)\n",
    "image_width = metadata[0].get(\"File:ImageWidth\")\n",
    "pixel_pitch = 6.17e-3 / image_width  # sensor width known to be 1/2.3” = 6.17mm\n",
    "\n",
    "print(\"Altitude: \", altitude, \"meters\")\n",
    "print(\"Focal Length: \", focal_length, \"mm\")\n",
    "print(\"Pixel Pitch: \", pixel_pitch, \"meters / px\")"
   ]
  },
  {
   "cell_type": "code",
   "execution_count": 13,
   "metadata": {},
   "outputs": [
    {
     "name": "stdout",
     "output_type": "stream",
     "text": [
      "GSD:  0.028712994791666672 meters / px\n",
      "GSD:  2.8712994791666673 cm / px\n"
     ]
    }
   ],
   "source": [
    "# Calculate the GSD (Ground Sample Distance)\n",
    "gsd = (altitude * pixel_pitch) / (focal_length / 1000)\n",
    "print(\"GSD: \", gsd, \"meters / px\")\n",
    "print(\"GSD: \", gsd * 100, \"cm / px\")\n"
   ]
  },
  {
   "cell_type": "code",
   "execution_count": 43,
   "metadata": {},
   "outputs": [
    {
     "name": "stdout",
     "output_type": "stream",
     "text": [
      "Area of tree:  378535 pixels\n"
     ]
    }
   ],
   "source": [
    "import numpy as np\n",
    "\n",
    "height_tree = 10  # meters\n",
    "\n",
    "# GSD at the tree height\n",
    "gsd = (altitude - height_tree) * pixel_pitch / focal_length\n",
    "\n",
    "diameter_of_tree = 10  # meters\n",
    "# Number of pixels the tree will cover\n",
    "area_of_tree = diameter_of_tree / gsd\n",
    "print(\"Area of tree: \", int(area_of_tree), \"pixels\")"
   ]
  }
 ],
 "metadata": {
  "kernelspec": {
   "display_name": "scipy2024-env",
   "language": "python",
   "name": "python3"
  },
  "language_info": {
   "codemirror_mode": {
    "name": "ipython",
    "version": 3
   },
   "file_extension": ".py",
   "mimetype": "text/x-python",
   "name": "python",
   "nbconvert_exporter": "python",
   "pygments_lexer": "ipython3",
   "version": "3.11.4"
  }
 },
 "nbformat": 4,
 "nbformat_minor": 2
}
